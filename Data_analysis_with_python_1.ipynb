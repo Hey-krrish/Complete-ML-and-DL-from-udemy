{
  "nbformat": 4,
  "nbformat_minor": 0,
  "metadata": {
    "colab": {
      "provenance": [],
      "authorship_tag": "ABX9TyOXDTfEO1QGyFl3mcL5YvQA",
      "include_colab_link": true
    },
    "kernelspec": {
      "name": "python3",
      "display_name": "Python 3"
    },
    "language_info": {
      "name": "python"
    }
  },
  "cells": [
    {
      "cell_type": "markdown",
      "metadata": {
        "id": "view-in-github",
        "colab_type": "text"
      },
      "source": [
        "<a href=\"https://colab.research.google.com/github/Hey-krrish/Complete-ML-and-DL-from-udemy/blob/main/Data_analysis_with_python_1.ipynb\" target=\"_parent\"><img src=\"https://colab.research.google.com/assets/colab-badge.svg\" alt=\"Open In Colab\"/></a>"
      ]
    },
    {
      "cell_type": "markdown",
      "source": [
        "#NumPy"
      ],
      "metadata": {
        "id": "5UTtWU6hUuzo"
      }
    },
    {
      "cell_type": "code",
      "source": [
        "import numpy as np"
      ],
      "metadata": {
        "id": "ReRBNuiYZ0U0"
      },
      "execution_count": 15,
      "outputs": []
    },
    {
      "cell_type": "code",
      "source": [
        "#simple numpy program\n",
        "import numpy as np\n",
        "arr= np.array([1,2,34,43,23,12])\n",
        "print(arr)"
      ],
      "metadata": {
        "id": "Wr4gPxOwU1Mh",
        "colab": {
          "base_uri": "https://localhost:8080/"
        },
        "outputId": "fe1b9bea-81bd-4fcf-c80f-208b75193502"
      },
      "execution_count": null,
      "outputs": [
        {
          "output_type": "stream",
          "name": "stdout",
          "text": [
            "[ 1  2 34 43 23 12]\n"
          ]
        }
      ]
    },
    {
      "cell_type": "code",
      "source": [
        "#take tuple inside the array function and convert into nd array\n",
        "import numpy as np\n",
        "arr=np.array((1,3,6,8,3,))\n",
        "print(arr)\n",
        "#print type of the array\n",
        "print(type(arr))"
      ],
      "metadata": {
        "colab": {
          "base_uri": "https://localhost:8080/"
        },
        "id": "3puhMWuCCo2X",
        "outputId": "ad33b952-408e-40b1-87be-d383b737838c"
      },
      "execution_count": null,
      "outputs": [
        {
          "output_type": "stream",
          "name": "stdout",
          "text": [
            "[1 3 6 8 3]\n",
            "<class 'numpy.ndarray'>\n"
          ]
        }
      ]
    },
    {
      "cell_type": "code",
      "source": [
        "arr=np.array(42)\n",
        "print(arr.shape) #print the dimensition.\n",
        "arr1=np.array([1,2,3,4,5])\n",
        "print(arr1.shape) ## the output is (5,) that means 5  row 0 column in one dimension\n",
        "arr2=np.array([[1,2,3,4,5],[1,2,3,4,5]])\n",
        "print(arr2.shape) ##(2,5) that means 2 row and 5 column\n",
        "arr3=np.array([[[1,2,3,4,5],[1,2,3,4,5]],[[1,2,3,4,5],[1,2,3,4,5]]])\n",
        "print(arr3.shape) ##(2,2,5) that means 2 x codinate 2 \"y\" codinate 5 \"z\" codinate"
      ],
      "metadata": {
        "colab": {
          "base_uri": "https://localhost:8080/"
        },
        "id": "CvHlHBOqZtVR",
        "outputId": "c381157d-db3d-463e-be50-bd8c61cf7546"
      },
      "execution_count": 14,
      "outputs": [
        {
          "output_type": "stream",
          "name": "stdout",
          "text": [
            "()\n",
            "(5,)\n",
            "(2, 5)\n",
            "(2, 2, 5)\n"
          ]
        }
      ]
    },
    {
      "cell_type": "code",
      "source": [
        "#checking datatypew of the the array\n",
        "import numpy as np\n",
        "arr=np.array([1,2,3,4])\n",
        "print(arr.dtype)\n",
        "arr_string=np.array([\"apple\",\"banana\",\"mango\",\"coconut\"])\n",
        "print(arr_string.dtype)#u7 means the string element contain maximum 7 unicode element.\n",
        "arr_string1=np.array([\"apple\",\"banana\",\"mango\",\"coconut\",\"pineapple\"])\n",
        "print(arr_string1.dtype) # here maximum length element in the list is pineapple and the no of then word is 9 so print u9\n",
        "# define data type\n",
        "arr=np.array([1,2,3,4],dtype=\"S\")\n",
        "print(arr)\n",
        "print(arr.dtype)\n",
        "arr=np.array([1,2,3,4],dtype=np.int64)\n",
        "print(arr)\n",
        "print(arr.dtype)\n",
        "arr=np.array([1,2,3,4],dtype=np.float32)\n",
        "print(arr)\n",
        "print(arr.dtype)\n",
        "print(arr.size)\n"
      ],
      "metadata": {
        "colab": {
          "base_uri": "https://localhost:8080/"
        },
        "id": "yOt0x5aKdewd",
        "outputId": "905ded55-adba-442e-fd0c-7acef0db86e2"
      },
      "execution_count": 10,
      "outputs": [
        {
          "output_type": "stream",
          "name": "stdout",
          "text": [
            "int64\n",
            "<U7\n",
            "<U9\n",
            "[b'1' b'2' b'3' b'4']\n",
            "|S1\n",
            "[1 2 3 4]\n",
            "int64\n",
            "[1. 2. 3. 4.]\n",
            "float32\n",
            "4\n"
          ]
        }
      ]
    },
    {
      "cell_type": "code",
      "source": [
        "# concept of copy and view\n",
        "import numpy as np\n",
        "arr=np.array([1,2,3,4,5])\n",
        "x=arr.copy()\n",
        "arr[0]=42\n",
        "print(arr)\n",
        "print(x)\n",
        "# the copy should not be affected by the changes made to the original array\n",
        "arr=np.array([1,2,3,4,5])\n",
        "x=arr.view()\n",
        "arr[0]=42\n",
        "print(arr)\n",
        "print(x)\n",
        "# the view should be affected by the changes made to the original array\n"
      ],
      "metadata": {
        "colab": {
          "base_uri": "https://localhost:8080/"
        },
        "id": "230lxCZ9PClb",
        "outputId": "3378fa37-e8e6-465b-9cf1-6bdb497a3b4a"
      },
      "execution_count": 12,
      "outputs": [
        {
          "output_type": "stream",
          "name": "stdout",
          "text": [
            "[42  2  3  4  5]\n",
            "[1 2 3 4 5]\n",
            "[42  2  3  4  5]\n",
            "[42  2  3  4  5]\n"
          ]
        }
      ]
    },
    {
      "cell_type": "code",
      "source": [
        "# use of the ndmin\n",
        "import numpy as np\n",
        "arr=np.array([1,2,3,4],ndmin=5) # ndmin is create a specific dimensition of the array that we want\n",
        "print(arr)\n",
        "print(\"shape of the array\",arr.shape)"
      ],
      "metadata": {
        "colab": {
          "base_uri": "https://localhost:8080/"
        },
        "id": "LxSraIF4RnEa",
        "outputId": "5c8aeb06-091e-4def-9584-4ba547ff9633"
      },
      "execution_count": 13,
      "outputs": [
        {
          "output_type": "stream",
          "name": "stdout",
          "text": [
            "[[[[[1 2 3 4]]]]]\n",
            "shape of the array (1, 1, 1, 1, 4)\n"
          ]
        }
      ]
    },
    {
      "cell_type": "code",
      "source": [
        "# numpy array reshaping.\n",
        "\n",
        "\"\"\"reshaping means changing the shape of an array.\n",
        "The shape of an array is the number of elements in each dimension.\n",
        "By reshaping we can add or remove dimensions or change number of elements in each dimension.\"\"\"\n",
        "# reshaping from 1D to 2D\n",
        "import numpy as np\n",
        "arr=np.array([1,2,3,4,5,6,7,8,9,10,11,12])\n",
        "newarr=arr.reshape(4,3)\n",
        "print(newarr)\n",
        " #reshaping from 1D to 3D\n",
        "arr1=np.array([1,2,3,4,5,6,7,8,9,10,11,12])\n",
        "newarr1=arr1.reshape(2,3,2)\n",
        "print(newarr1)\n",
        "\n",
        "#reshape with arange function\n",
        "arr2=np.arange(1,13) #no of element is 12\n",
        "print(arr2)\n",
        "newarr2=arr2.reshape(4,3)\n",
        "print(newarr2)\n",
        " # oneline shortcut\n",
        "arr3=np.arange(1,13).reshape(4,3)\n",
        "print(arr3,end=\"\\n\")\n",
        "\n",
        "\n",
        "# when use negative index in reshape\n",
        "arr4=np.arange(1,13).reshape(2,2,-1)\n",
        "print(arr4)\n",
        "# when we use the negative index then it donn't affect any shape of the array .\n",
        "# it automatically reshape it.."
      ],
      "metadata": {
        "colab": {
          "base_uri": "https://localhost:8080/"
        },
        "id": "kxhFwHF0V4Pz",
        "outputId": "8776603c-72ea-4fdd-ee6c-3004241f087a"
      },
      "execution_count": 22,
      "outputs": [
        {
          "output_type": "stream",
          "name": "stdout",
          "text": [
            "[[ 1  2  3]\n",
            " [ 4  5  6]\n",
            " [ 7  8  9]\n",
            " [10 11 12]]\n",
            "[[[ 1  2]\n",
            "  [ 3  4]\n",
            "  [ 5  6]]\n",
            "\n",
            " [[ 7  8]\n",
            "  [ 9 10]\n",
            "  [11 12]]]\n",
            "[ 1  2  3  4  5  6  7  8  9 10 11 12]\n",
            "[[ 1  2  3]\n",
            " [ 4  5  6]\n",
            " [ 7  8  9]\n",
            " [10 11 12]]\n",
            "[[ 1  2  3]\n",
            " [ 4  5  6]\n",
            " [ 7  8  9]\n",
            " [10 11 12]]\n",
            "[[[ 1  2  3]\n",
            "  [ 4  5  6]]\n",
            "\n",
            " [[ 7  8  9]\n",
            "  [10 11 12]]]\n"
          ]
        }
      ]
    },
    {
      "cell_type": "code",
      "source": [
        " # numpy joining array.\n",
        " # joining means putting contents of one or more array in a single array.\n",
        "\n",
        " # using concatinate() function\n",
        "arr1 = np.array([1, 2, 3])\n",
        "arr2 = np.array([4, 5, 6])\n",
        "arr = np.concatenate((arr1, arr2)).reshape(2,3)\n",
        "print(arr)\n",
        "\n",
        "# using axis\n",
        "arr1=np.array([[1,2],[3,4]])\n",
        "arr2=np.array([[5,6],[7,8]])\n",
        "arr=np.concatenate((arr1,arr2),axis=1)\n",
        "print(arr)\n",
        "\"\"\"axis=0 (default): Concatenation is done along rows (vertically). The arrays are stacked on top of each other.\n",
        "axis=1: Concatenation is done along columns (horizontally). The arrays are stacked side by side.\"\"\"\n",
        "\n",
        "#using stack function.\n",
        "arr1=np.array([1,2,3])\n",
        "arr2=np.array([4,5,6])\n",
        "arr=np.stack((arr1,arr2),axis=1).reshape(2,3) #it is also possible reshape when we use axis\n",
        "print(arr)\n",
        "# using hstack()\n",
        "arr1=np.array([1,2,3])\n",
        "arr2=np.array([4,5,6])\n",
        "arr=np.hstack((arr1,arr2))\n",
        "print(arr)\n",
        " # using vstack()\n",
        "\n",
        "arr1=np.array([1,2,3])\n",
        "arr2=np.array([4,5,6])\n",
        "arr=np.vstack((arr1,arr2))\n",
        "print(arr)"
      ],
      "metadata": {
        "colab": {
          "base_uri": "https://localhost:8080/"
        },
        "id": "icPCt6VnbmvC",
        "outputId": "34657aa1-fb83-4e74-d674-20c2b23f3880"
      },
      "execution_count": 33,
      "outputs": [
        {
          "output_type": "stream",
          "name": "stdout",
          "text": [
            "[[1 2 3]\n",
            " [4 5 6]]\n",
            "[[1 2 5 6]\n",
            " [3 4 7 8]]\n",
            "[[1 4 2]\n",
            " [5 3 6]]\n",
            "[1 2 3 4 5 6]\n",
            "[[1 2 3]\n",
            " [4 5 6]]\n"
          ]
        }
      ]
    },
    {
      "cell_type": "code",
      "source": [
        " # ones() and zero() function\n",
        "arr=np.ones((2,3))\n",
        "print(arr)\n",
        "arr1=np.zeros((2,3))\n",
        "print(arr1)\n",
        "#linespace()\n",
        "arr2=np.linspace(0,10,5) # linespace()are devided into similar difference from starting no to ending number\n",
        "print(arr2)\n",
        "\n",
        "#identify()\n",
        "arr3=np.eye(3)\n",
        "print(arr3)\n",
        "# also write in this way\n",
        "arr4=np.identity(3)\n",
        "print(arr4)"
      ],
      "metadata": {
        "colab": {
          "base_uri": "https://localhost:8080/"
        },
        "id": "fZJJFjKcgNZ5",
        "outputId": "c6d89dc0-ee26-4ba6-b6f2-365fbae8b6b1"
      },
      "execution_count": 38,
      "outputs": [
        {
          "output_type": "stream",
          "name": "stdout",
          "text": [
            "[[1. 1. 1.]\n",
            " [1. 1. 1.]]\n",
            "[[0. 0. 0.]\n",
            " [0. 0. 0.]]\n",
            "[ 0.   2.5  5.   7.5 10. ]\n",
            "[[1. 0. 0.]\n",
            " [0. 1. 0.]\n",
            " [0. 0. 1.]]\n",
            "[[1. 0. 0.]\n",
            " [0. 1. 0.]\n",
            " [0. 0. 1.]]\n"
          ]
        }
      ]
    },
    {
      "cell_type": "code",
      "source": [
        "#stastical function\n",
        "arr=np.array([1,2,3,4,5])\n",
        "print(np.mean(arr)) #mean\n",
        "print(np.median(arr)) #median\n",
        "print(np.std(arr)) #standard deviation\n",
        "print(np.var(arr))"
      ],
      "metadata": {
        "colab": {
          "base_uri": "https://localhost:8080/"
        },
        "id": "IRJbK9VoornN",
        "outputId": "5ba38bc6-2354-4bd6-89d5-add5d6254b1a"
      },
      "execution_count": 39,
      "outputs": [
        {
          "output_type": "stream",
          "name": "stdout",
          "text": [
            "3.0\n",
            "3.0\n",
            "1.4142135623730951\n",
            "2.0\n"
          ]
        }
      ]
    },
    {
      "cell_type": "code",
      "source": [
        "#arithmatic operation on array\n",
        "arr1=np.array([1,2,3,4,5])\n",
        "arr2=np.array([6,7,8,9,10])\n",
        "print(np.add(arr1,arr2))\n",
        "print(np.subtract(arr1,arr2))\n",
        "print(np.multiply(arr1,arr2))\n",
        "print(np.divide(arr1,arr2))"
      ],
      "metadata": {
        "colab": {
          "base_uri": "https://localhost:8080/"
        },
        "id": "vzaEjJudpHN9",
        "outputId": "9723c4bd-9304-4ebc-eb59-75bceaeaff2e"
      },
      "execution_count": 40,
      "outputs": [
        {
          "output_type": "stream",
          "name": "stdout",
          "text": [
            "[ 7  9 11 13 15]\n",
            "[-5 -5 -5 -5 -5]\n",
            "[ 6 14 24 36 50]\n",
            "[0.16666667 0.28571429 0.375      0.44444444 0.5       ]\n"
          ]
        }
      ]
    },
    {
      "cell_type": "code",
      "source": [
        "#logical operation on array\n",
        "arr1=np.array([1,2,3,4,5])\n",
        "arr2=np.array([6,7,8,9,10])\n",
        "print(np.array_equal(arr1,arr2))\n",
        "print(np.logical_and(arr1,arr2))\n",
        "print(np.logical_or(arr1,arr2))\n",
        "print(np.logical_not(arr1,arr2))\n",
        "\n",
        "#boolean indexing\n",
        "arr=np.array([1,2,3,4,5])\n",
        "x=[True,False,True,False,True]\n",
        "newarr=arr[x]\n",
        "print(newarr)\n",
        "\n",
        "#random.randint()\n",
        "from numpy import random\n",
        "x=random.randint(100)\n",
        "print(x)\n",
        "#random.rand()\n",
        "x=random.rand()\n",
        "print(x)\n",
        "# find all the number divisiblle by 7 in the array\n",
        "arr=np.arange(1,100)\n",
        "newarr=arr[arr%7==0]\n",
        "print(newarr)\n",
        "#"
      ],
      "metadata": {
        "colab": {
          "base_uri": "https://localhost:8080/"
        },
        "id": "OA6gXVeSpUcS",
        "outputId": "c196ad42-bcd7-4297-f704-87ccafe230c5"
      },
      "execution_count": 45,
      "outputs": [
        {
          "output_type": "stream",
          "name": "stdout",
          "text": [
            "False\n",
            "[ True  True  True  True  True]\n",
            "[ True  True  True  True  True]\n",
            "[0 0 0 0 0]\n",
            "[1 3 5]\n",
            "0\n",
            "0.3842093813088685\n",
            "[ 7 14 21 28 35 42 49 56 63 70 77 84 91 98]\n"
          ]
        }
      ]
    }
  ]
}